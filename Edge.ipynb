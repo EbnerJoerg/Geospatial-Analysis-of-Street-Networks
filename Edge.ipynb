{
 "cells": [
  {
   "cell_type": "code",
   "execution_count": 71,
   "metadata": {},
   "outputs": [],
   "source": [
    "import osmnx as ox\n",
    "import networkx as nx\n",
    "import pickle \n",
    "import pandas as pd\n",
    "import numpy as np\n",
    "import os\n",
    "import seaborn as sns\n",
    "import matplotlib.pyplot as plt\n",
    "from scipy.stats import chisquare, describe\n",
    "import matplotlib.patches as mpatches\n",
    "from scipy.sparse import spdiags\n",
    "from scipy.linalg import eigh\n",
    "from sklearn.cluster import KMeans\n",
    "from scipy.stats import zscore\n",
    "import matplotlib.pyplot as plt\n",
    "import multiprocessing\n",
    "\n",
    "plt.rcParams[\"font.family\"] = \"Times New Roman\"\n",
    "plt.rcParams['font.size'] = 11\n",
    "\n",
    "path = 'SN'\n",
    "os.chdir('C:/Users/Besitzer/Desktop/Geospatial Analysis/')"
   ]
  },
  {
   "cell_type": "code",
   "execution_count": 56,
   "metadata": {
    "collapsed": true,
    "jupyter": {
     "outputs_hidden": true
    }
   },
   "outputs": [
    {
     "name": "stderr",
     "output_type": "stream",
     "text": [
      "C:\\Users\\Besitzer\\anaconda3\\envs\\ox\\lib\\site-packages\\geopandas\\geodataframe.py:853: SettingWithCopyWarning: \n",
      "A value is trying to be set on a copy of a slice from a DataFrame.\n",
      "Try using .loc[row_indexer,col_indexer] = value instead\n",
      "\n",
      "See the caveats in the documentation: https://pandas.pydata.org/pandas-docs/stable/user_guide/indexing.html#returning-a-view-versus-a-copy\n",
      "  super(GeoDataFrame, self).__setitem__(key, value)\n",
      "<ipython-input-56-1194c17e630c>:11: SettingWithCopyWarning: \n",
      "A value is trying to be set on a copy of a slice from a DataFrame\n",
      "\n",
      "See the caveats in the documentation: https://pandas.pydata.org/pandas-docs/stable/user_guide/indexing.html#returning-a-view-versus-a-copy\n",
      "  len_geo['geometry index'][edge] = len(split) -1\n",
      "C:\\Users\\Besitzer\\anaconda3\\envs\\ox\\lib\\site-packages\\IPython\\core\\interactiveshell.py:3418: SettingWithCopyWarning: \n",
      "A value is trying to be set on a copy of a slice from a DataFrame\n",
      "\n",
      "See the caveats in the documentation: https://pandas.pydata.org/pandas-docs/stable/user_guide/indexing.html#returning-a-view-versus-a-copy\n",
      "  exec(code_obj, self.user_global_ns, self.user_ns)\n"
     ]
    }
   ],
   "source": [
    "b = []\n",
    "for file in os.listdir(path):\n",
    "    if 'network_graph' in file:\n",
    "        G = pickle.load(open(path + '/' + file, \"rb\" ))\n",
    "        name = file.replace('network_graph_POI_', '').replace('.p', '')\n",
    "        edges = ox.graph_to_gdfs(G, nodes=False)\n",
    "        len_geo = edges[['length', 'geometry']]\n",
    "        len_geo['geometry index'] = np.nan\n",
    "        for edge in len_geo.index:\n",
    "            split = str(len_geo.iloc[edge].geometry).replace(\"LINESTRING (\", '').replace(\")\",'').split(', ')\n",
    "            len_geo['geometry index'][edge] = len(split) -1\n",
    "        a = dict(len_geo, name=name)\n",
    "        b.append(a)"
   ]
  },
  {
   "cell_type": "code",
   "execution_count": 58,
   "metadata": {},
   "outputs": [],
   "source": [
    "open_file = open('Edges_Length_Geometry' + '.pkl', \"wb\")\n",
    "pickle.dump(b, open_file)\n",
    "open_file.close()"
   ]
  },
  {
   "cell_type": "code",
   "execution_count": 66,
   "metadata": {},
   "outputs": [
    {
     "data": {
      "text/plain": [
       "0         33.981\n",
       "1         54.312\n",
       "2         80.338\n",
       "3          8.967\n",
       "4        439.026\n",
       "          ...   \n",
       "13754     77.497\n",
       "13755     67.318\n",
       "13756    117.509\n",
       "13757    117.509\n",
       "13758     25.472\n",
       "Name: length, Length: 13759, dtype: float64"
      ]
     },
     "execution_count": 66,
     "metadata": {},
     "output_type": "execute_result"
    }
   ],
   "source": [
    "b[0]['length']"
   ]
  },
  {
   "cell_type": "code",
   "execution_count": 73,
   "metadata": {},
   "outputs": [
    {
     "name": "stdout",
     "output_type": "stream",
     "text": [
      "DescribeResult(nobs=13759, minmax=(1.0, 66.0), mean=3.213532960244204, variance=12.585160645646354, skewness=4.929332489551655, kurtosis=46.75082354636556)\n"
     ]
    }
   ],
   "source": [
    "print(describe(b[0]['geometry index']))"
   ]
  },
  {
   "cell_type": "code",
   "execution_count": 75,
   "metadata": {},
   "outputs": [
    {
     "name": "stdout",
     "output_type": "stream",
     "text": [
      "DescribeResult(nobs=13759, minmax=(1.205, 2081.272), mean=89.22473057635003, variance=9694.938960338295, skewness=5.7871867995462, kurtosis=70.48992096220606)\n",
      "DescribeResult(nobs=9074, minmax=(2.347, 2339.387), mean=104.4145929027992, variance=17556.20967685575, skewness=6.452722526234274, kurtosis=67.14902269719778)\n",
      "DescribeResult(nobs=12537, minmax=(0.575, 3106.0529999999994), mean=90.37401020977906, variance=8340.363020525263, skewness=9.93843093971114, kurtosis=231.44432238746762)\n",
      "DescribeResult(nobs=9241, minmax=(0.123, 2020.3539999999998), mean=112.50891992208635, variance=12187.88653447822, skewness=4.218881516682515, kurtosis=37.71383052960879)\n",
      "DescribeResult(nobs=8251, minmax=(1.577, 1326.8279999999997), mean=123.62256841594959, variance=11016.258577621105, skewness=2.850791135411926, kurtosis=19.260702416240704)\n",
      "DescribeResult(nobs=6259, minmax=(0.788, 4137.535), mean=118.3098779357725, variance=35686.37069603943, skewness=6.946645399950873, kurtosis=84.4425022661775)\n",
      "DescribeResult(nobs=7745, minmax=(0.39, 3093.8840000000005), mean=103.75505474499677, variance=19943.646206964462, skewness=8.87650581594401, kurtosis=139.38991696128724)\n",
      "DescribeResult(nobs=7769, minmax=(1.98, 2374.0280000000002), mean=115.2810848243017, variance=13668.64465648315, skewness=4.845311242968006, kurtosis=54.161686550132515)\n",
      "DescribeResult(nobs=12842, minmax=(1.224, 988.38), mean=88.97525572340759, variance=5606.669955943789, skewness=2.364353197315875, kurtosis=10.783217731279972)\n",
      "DescribeResult(nobs=5923, minmax=(1.722, 1925.953), mean=119.52604052000677, variance=22136.26253077411, skewness=5.083760501314256, kurtosis=39.55648810629642)\n",
      "DescribeResult(nobs=11695, minmax=(1.466, 2491.147), mean=106.57092680632749, variance=9921.132158242119, skewness=4.816444036687034, kurtosis=64.2963000374051)\n",
      "DescribeResult(nobs=16362, minmax=(0.466, 1796.7620000000004), mean=80.11512706270626, variance=6335.753326184514, skewness=4.070045723815752, kurtosis=43.78721164038078)\n",
      "DescribeResult(nobs=15079, minmax=(1.344, 1760.4209999999998), mean=89.74059685655547, variance=7147.684729642412, skewness=4.215943047084445, kurtosis=42.96144057935871)\n",
      "DescribeResult(nobs=8871, minmax=(0.557, 2117.777), mean=108.291713222861, variance=11540.5949623191, skewness=5.180918392775797, kurtosis=60.553060867553555)\n",
      "DescribeResult(nobs=10375, minmax=(0.554, 1618.1259999999997), mean=94.13788780722892, variance=9261.034280347541, skewness=4.241124776164926, kurtosis=34.421672173775654)\n",
      "DescribeResult(nobs=13942, minmax=(1.686, 3662.959999999999), mean=89.12550150624014, variance=6988.441388107414, skewness=7.970601011632538, kurtosis=251.36568116731823)\n",
      "DescribeResult(nobs=9108, minmax=(1.436, 1580.1520000000005), mean=103.22946706192357, variance=10564.719925976846, skewness=3.638509274995324, kurtosis=27.409400392703432)\n",
      "DescribeResult(nobs=8664, minmax=(0.702, 2574.2399999999993), mean=105.49118755771006, variance=12278.568906894632, skewness=5.218979625830611, kurtosis=67.58852288434753)\n",
      "DescribeResult(nobs=8179, minmax=(1.859, 1292.3390000000004), mean=100.00579459591637, variance=10331.763511728162, skewness=2.72151544242919, kurtosis=12.713074664071119)\n",
      "DescribeResult(nobs=7630, minmax=(1.987, 1899.7040000000009), mean=119.09794403669726, variance=14046.196889399804, skewness=5.103690132584367, kurtosis=47.593174744345596)\n",
      "DescribeResult(nobs=6330, minmax=(1.055, 2252.8169999999996), mean=117.42986508688783, variance=18700.197100504156, skewness=4.584046726158281, kurtosis=42.84002472677238)\n",
      "DescribeResult(nobs=6295, minmax=(1.409, 1655.753), mean=119.74018586179507, variance=15400.585625355345, skewness=3.7243411729454685, kurtosis=24.705775437410278)\n",
      "DescribeResult(nobs=5750, minmax=(1.269, 3751.83), mean=113.60878191304349, variance=21388.92656111089, skewness=8.956029689179658, kurtosis=166.2323612689841)\n",
      "DescribeResult(nobs=6875, minmax=(1.192, 1646.3770000000004), mean=120.03277672727272, variance=14141.674978844381, skewness=3.185970209726973, kurtosis=18.754996464260234)\n",
      "DescribeResult(nobs=6260, minmax=(1.926, 2175.862), mean=131.9134234824281, variance=21062.725889565478, skewness=5.314692488203805, kurtosis=50.45657402565031)\n",
      "DescribeResult(nobs=13499, minmax=(1.824, 2085.8299999999995), mean=88.68109697014594, variance=10024.343150023118, skewness=4.0666102155017905, kurtosis=31.797587708369228)\n",
      "DescribeResult(nobs=22293, minmax=(0.146, 1134.5100000000002), mean=72.17302781142062, variance=3739.976636869135, skewness=3.2290194936373453, kurtosis=25.145338163761632)\n",
      "DescribeResult(nobs=11063, minmax=(0.132, 3772.335), mean=100.31613884118231, variance=14056.889445256802, skewness=9.755161188936317, kurtosis=205.8548713625634)\n",
      "DescribeResult(nobs=16330, minmax=(0.302, 4666.787), mean=84.42214586650337, variance=10100.389604299135, skewness=14.449847651377157, kurtosis=525.0872989908524)\n",
      "DescribeResult(nobs=9991, minmax=(0.191, 2572.663), mean=119.03939805825242, variance=14447.196503479672, skewness=7.218728172411622, kurtosis=96.78544073250508)\n",
      "DescribeResult(nobs=9152, minmax=(2.157, 1310.5319999999997), mean=99.9724180506993, variance=12000.154437407993, skewness=3.794207865025162, kurtosis=22.656823908465)\n",
      "DescribeResult(nobs=14669, minmax=(0.084, 1447.996), mean=81.67013266071307, variance=5766.069897994399, skewness=3.3222838427502963, kurtosis=29.08134917419244)\n",
      "DescribeResult(nobs=9356, minmax=(3.946, 1488.3809999999999), mean=122.23990658401027, variance=10643.168572140925, skewness=2.9073448055773414, kurtosis=19.059427891332763)\n",
      "DescribeResult(nobs=10128, minmax=(2.303, 1281.2630000000004), mean=111.53628189178515, variance=8598.261940885179, skewness=3.0669588244872483, kurtosis=19.7224629253541)\n",
      "DescribeResult(nobs=37886, minmax=(0.423, 2722.41), mean=67.4337626827852, variance=2878.683182910843, skewness=13.88891856349477, kurtosis=471.2384066120403)\n",
      "DescribeResult(nobs=8691, minmax=(1.012, 3717.123), mean=99.35226717293752, variance=20496.26937937556, skewness=7.825602078370408, kurtosis=126.65384599735287)\n",
      "DescribeResult(nobs=14555, minmax=(2.011, 1854.565), mean=85.23066018550327, variance=8283.335286424164, skewness=4.969854492208176, kurtosis=50.247087001078675)\n",
      "DescribeResult(nobs=10047, minmax=(1.047, 1382.059), mean=104.15742211605455, variance=9688.438922787656, skewness=3.437576051460539, kurtosis=20.708828484597834)\n",
      "DescribeResult(nobs=51707, minmax=(0.202, 2901.911), mean=57.56907155704257, variance=2662.130341281036, skewness=18.008675937902684, kurtosis=780.23954389331)\n",
      "DescribeResult(nobs=13193, minmax=(1.126, 775.809), mean=88.43391609186692, variance=4826.861224793065, skewness=2.028482460203286, kurtosis=8.35280293924712)\n",
      "DescribeResult(nobs=18278, minmax=(2.669, 1771.6119999999996), mean=99.39073913994966, variance=5213.552705206446, skewness=5.260869872994064, kurtosis=59.57068673179714)\n",
      "DescribeResult(nobs=10918, minmax=(1.102, 1590.325), mean=100.55704048360505, variance=10311.953489896134, skewness=4.001176715125706, kurtosis=30.897803173338538)\n",
      "DescribeResult(nobs=12571, minmax=(0.997, 1506.2730000000001), mean=83.22255270066026, variance=6860.45159428861, skewness=4.405017878195189, kurtosis=40.135079491159466)\n",
      "DescribeResult(nobs=5250, minmax=(0.489, 4962.342), mean=130.49908895238096, variance=30112.28657852114, skewness=9.723290602336876, kurtosis=210.0068664368208)\n",
      "DescribeResult(nobs=15027, minmax=(0.612, 1643.83), mean=112.50757622945365, variance=8144.041401074632, skewness=4.264947715498794, kurtosis=41.347418492871135)\n",
      "DescribeResult(nobs=13630, minmax=(1.262, 2248.222), mean=92.70146911225238, variance=8288.6204475485, skewness=8.15281650308525, kurtosis=126.02128503163172)\n",
      "DescribeResult(nobs=24510, minmax=(0.812, 3923.731), mean=69.80210069359444, variance=7214.990774103696, skewness=13.420143508608806, kurtosis=407.7200248556673)\n",
      "DescribeResult(nobs=15060, minmax=(0.674, 1606.534), mean=77.70875405046482, variance=6462.338835621688, skewness=4.193141809257419, kurtosis=35.01093055259876)\n",
      "DescribeResult(nobs=8022, minmax=(1.532, 2589.9300000000003), mean=115.29883807030666, variance=16695.777914091093, skewness=5.130252667459887, kurtosis=53.890451022117745)\n",
      "DescribeResult(nobs=50021, minmax=(0.557, 4668.426), mean=54.842272065732395, variance=2246.6474430050466, skewness=22.530945663350472, kurtosis=1903.5120398442864)\n",
      "DescribeResult(nobs=8413, minmax=(0.391, 2940.768), mean=140.03276619517413, variance=12320.234122946162, skewness=5.285411914558803, kurtosis=88.56210872892107)\n",
      "DescribeResult(nobs=13086, minmax=(0.28, 1332.1800000000003), mean=92.93350427938253, variance=8627.294448885232, skewness=3.2217365371829993, kurtosis=19.506655944063773)\n",
      "DescribeResult(nobs=16538, minmax=(1.614, 1456.7729999999997), mean=84.85098427863105, variance=6423.723190615706, skewness=4.408394961344795, kurtosis=42.280043168900974)\n",
      "DescribeResult(nobs=13800, minmax=(0.174, 3090.1249999999995), mean=89.91202094202899, variance=12888.835845910498, skewness=7.089427018865176, kurtosis=101.96431011523619)\n",
      "DescribeResult(nobs=12780, minmax=(0.326, 2811.8459999999995), mean=87.85345258215963, variance=12068.215847444264, skewness=7.069601405788698, kurtosis=101.91880578359591)\n",
      "DescribeResult(nobs=11709, minmax=(0.77, 1485.6830000000004), mean=94.10209044324877, variance=6138.851653353709, skewness=4.566556643638656, kurtosis=44.2824899058985)\n",
      "DescribeResult(nobs=6419, minmax=(1.451, 1606.2589999999998), mean=120.26038323726436, variance=14791.792452305894, skewness=2.884110788950676, kurtosis=14.53048029133911)\n",
      "DescribeResult(nobs=8640, minmax=(2.644, 2195.716999999999), mean=109.96516875, variance=12745.511109730287, skewness=4.663820823311544, kurtosis=43.194777017977245)\n"
     ]
    }
   ],
   "source": [
    "for i in range(len(b)):\n",
    "    print(describe(b[i]['length']))"
   ]
  }
 ],
 "metadata": {
  "kernelspec": {
   "display_name": "Python (ox)",
   "language": "python",
   "name": "ox"
  },
  "language_info": {
   "codemirror_mode": {
    "name": "ipython",
    "version": 3
   },
   "file_extension": ".py",
   "mimetype": "text/x-python",
   "name": "python",
   "nbconvert_exporter": "python",
   "pygments_lexer": "ipython3",
   "version": "3.9.0"
  }
 },
 "nbformat": 4,
 "nbformat_minor": 4
}
